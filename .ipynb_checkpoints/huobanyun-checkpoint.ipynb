{
 "cells": [
  {
   "cell_type": "code",
   "execution_count": 1,
   "metadata": {
    "scrolled": false
   },
   "outputs": [],
   "source": [
    "import pandas as pd\n",
    "import datetime\n",
    "import numpy as np\n",
    "df=pd.read_excel('/Users/josephxie/Desktop/git/webspider/个人课程.xlsx')\n",
    "# input_grade=input ('input your grade:')\n",
    "# input_classtype=input ('input your class type:')\n",
    "# input_location=input ('input your location:')\n",
    "# input_startdate=input ('input your start date:')\n",
    "# input_finishdate==input ('input your finish date:')\n",
    "\n",
    "\n",
    "# df"
   ]
  },
  {
   "cell_type": "code",
   "execution_count": null,
   "metadata": {
    "scrolled": true
   },
   "outputs": [],
   "source": [
    "input_startdate=\"19/6/1\"\n",
    "input_finishdate='19/6/30'\n",
    "input_startdate=datetime.datetime.strptime(input_startdate,\"%y/%m/%d\")\n",
    "input_finishdate=datetime.datetime.strptime(input_finishdate,\"%y/%m/%d\")\n",
    "df['上课日期'] = pd.to_datetime(df['上课日期'])\n",
    "df=df[(df['上课日期']>=input_startdate) & (df['上课日期']<=input_finishdate)]\n",
    "df"
   ]
  },
  {
   "cell_type": "code",
   "execution_count": null,
   "metadata": {},
   "outputs": [],
   "source": [
    "input_grade='九年级'\n",
    "# input_classtype='一对一'\n",
    "input_location='王串场'\n",
    "df=df[(df['年级']==input_grade) & (df['地点']==input_location) & (df['班级类型']==input_classtype)]\n",
    "df"
   ]
  },
  {
   "cell_type": "code",
   "execution_count": null,
   "metadata": {},
   "outputs": [],
   "source": [
    "df = pd.DataFrame({'A':[100, 200, 300, 400, 500], 'B':['a', 'b', 'c', 'd', 'e'],'C':[1, 2, 3, 4, 5]})\n",
    "df=df[df['A']==all]\n",
    "df"
   ]
  },
  {
   "cell_type": "code",
   "execution_count": 22,
   "metadata": {},
   "outputs": [
    {
     "data": {
      "text/plain": [
       "'df[df[a=1]]'"
      ]
     },
     "execution_count": 22,
     "metadata": {},
     "output_type": "execute_result"
    }
   ],
   "source": [
    "df = pd.DataFrame({'a':['1', '2', '3', '4', '5'], 'b':['a', 'b', 'c', 'd', 'e'],'c':['1', '2', '3', '4', '5']})\n",
    "a='1'\n",
    "b='a'\n",
    "c='3'\n",
    "if a!=\"\":\n",
    "    shaixuan='df[a='+a+']'\n",
    "df='df['+shaixuan+']'\n",
    "df"
   ]
  }
 ],
 "metadata": {
  "kernelspec": {
   "display_name": "Python 3",
   "language": "python",
   "name": "python3"
  },
  "language_info": {
   "codemirror_mode": {
    "name": "ipython",
    "version": 3
   },
   "file_extension": ".py",
   "mimetype": "text/x-python",
   "name": "python",
   "nbconvert_exporter": "python",
   "pygments_lexer": "ipython3",
   "version": "3.7.0"
  }
 },
 "nbformat": 4,
 "nbformat_minor": 2
}
